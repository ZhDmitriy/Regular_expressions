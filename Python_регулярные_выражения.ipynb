{
  "nbformat": 4,
  "nbformat_minor": 0,
  "metadata": {
    "colab": {
      "provenance": []
    },
    "kernelspec": {
      "name": "python3",
      "display_name": "Python 3"
    },
    "language_info": {
      "name": "python"
    }
  },
  "cells": [
    {
      "cell_type": "code",
      "execution_count": 12,
      "metadata": {
        "id": "yTPNlgcA1wG7"
      },
      "outputs": [],
      "source": [
        "import re # Библиотека по обработке строк на языке C"
      ]
    },
    {
      "cell_type": "code",
      "source": [
        "print('variant \\nvariant')\n",
        "print(\" \")\n",
        "print(r'variant \\n variant')"
      ],
      "metadata": {
        "colab": {
          "base_uri": "https://localhost:8080/"
        },
        "id": "mHBLPR_v3DOR",
        "outputId": "f32aac41-efef-4971-c25c-faf1223b25e9"
      },
      "execution_count": null,
      "outputs": [
        {
          "output_type": "stream",
          "name": "stdout",
          "text": [
            "variant \n",
            "variant\n",
            " \n",
            "variant \\n variant\n"
          ]
        }
      ]
    },
    {
      "cell_type": "code",
      "source": [
        "text = 'Карта map и объект bitmap'\n",
        "\n",
        "# Поиск текста в строке\n",
        "mtch = re.findall('map', text)\n",
        "print(mtch)\n",
        "\n",
        "# Поиск определенного текста в строке через \\b\n",
        "mtch = re.findall(r'\\bmap\\b', text)\n",
        "print(mtch)\n",
        "\n",
        "# Поиск текста в строке через ()\n",
        "mtch = re.findall(r'(map)', text)\n",
        "print(mtch)"
      ],
      "metadata": {
        "colab": {
          "base_uri": "https://localhost:8080/"
        },
        "id": "eu9bqaNs52OM",
        "outputId": "ffb8f0e7-27db-4719-db47-ed55e4d2fc66"
      },
      "execution_count": 25,
      "outputs": [
        {
          "output_type": "stream",
          "name": "stdout",
          "text": [
            "['map', 'map']\n",
            "['map']\n",
            "['map', 'map']\n"
          ]
        }
      ]
    },
    {
      "cell_type": "code",
      "source": [
        "text = 'Карта Map и объект bitmap'\n",
        "text_num = 'Карта Map -77 и объект bitmap'\n",
        "\n",
        "mtch = re.findall(r'[кК]а[рн]та', text)\n",
        "print(mtch)\n",
        "\n",
        "# Поиск цифр и чисел\n",
        "mtch = re.findall(r'[0-9][0-9]', text_num)\n",
        "print(mtch)\n",
        "\n",
        "# Поиск не цифр (то есть кроме)\n",
        "mtch = re.findall(r'[^0-9]', text_num)\n",
        "print(mtch)\n",
        "\n",
        "# Поиск букв\n",
        "mtch = re.findall(r'[а-я]', text)\n",
        "print(mtch)"
      ],
      "metadata": {
        "colab": {
          "base_uri": "https://localhost:8080/"
        },
        "id": "heACbKjX8Koi",
        "outputId": "ee02f64f-806a-4456-f60d-2f5190a7c5e4"
      },
      "execution_count": 30,
      "outputs": [
        {
          "output_type": "stream",
          "name": "stdout",
          "text": [
            "['Карта']\n",
            "['77']\n",
            "['К', 'а', 'р', 'т', 'а', ' ', 'M', 'a', 'p', ' ', '-', ' ', 'и', ' ', 'о', 'б', 'ъ', 'е', 'к', 'т', ' ', 'b', 'i', 't', 'm', 'a', 'p']\n",
            "['а', 'р', 'т', 'а', 'и', 'о', 'б', 'ъ', 'е', 'к', 'т']\n"
          ]
        }
      ]
    },
    {
      "cell_type": "markdown",
      "source": [
        "*Квантификаторы*"
      ],
      "metadata": {
        "id": "tiyvRK7sADz9"
      }
    },
    {
      "cell_type": "code",
      "source": [
        "# m - минимальное число совпадений с выражением\n",
        "# n - максимальное число совпадений с выражением\n",
        "\n",
        "# Символ o и сколько раз он может повторяться\n",
        "text = \"Google, Gooogle, Goooogle, Gooooogle\"\n",
        "mtch = re.findall(r\"o{2,5}\", text)\n",
        "print(mtch)\n",
        "\n",
        "mtch = re.findall(r\"o{2,5}?\", text)\n",
        "print(mtch)\n",
        "\n",
        "# Поиск номера телефона, где {10} - кол-во повторений\n",
        "phone = \"89123456789\"\n",
        "mtch = re.findall(r\"8\\d{10}\", phone)\n",
        "\n",
        "# Выбор двух вариантов написания одного и того же слова, ? - или\n",
        "text = \"стеклянный, стекляный\"\n",
        "mtch = re.findall(r\"стеклянн?ый\", text)\n",
        "print(mtch)"
      ],
      "metadata": {
        "colab": {
          "base_uri": "https://localhost:8080/"
        },
        "id": "5uXTsLTAAFy9",
        "outputId": "dfe24e09-5b08-464f-d083-88e7be14bb0c"
      },
      "execution_count": 59,
      "outputs": [
        {
          "output_type": "stream",
          "name": "stdout",
          "text": [
            "['oo', 'ooo', 'oooo', 'ooooo']\n",
            "['oo', 'oo', 'oo', 'oo', 'oo', 'oo']\n",
            "['стеклянный', 'стекляный']\n"
          ]
        }
      ]
    },
    {
      "cell_type": "markdown",
      "source": [
        "*Группировка и сохранение*"
      ],
      "metadata": {
        "id": "nhUukCr4FePu"
      }
    },
    {
      "cell_type": "code",
      "source": [
        "text = \"lat = 5, lon = 78\"\n",
        "mtch = re.findall(r\"lat\\s=\\s*\\d+|lon\\s=\\s*\\d+\", text)\n",
        "print(mtch)\n",
        "\n",
        "# Из-за явного недостатка с повторением, мы должны использовать группирующие скобки\n",
        "mtch = re.findall(r\"(?:lat|lon)\\s*=\\s*\\d+\", text)\n",
        "print(mtch)"
      ],
      "metadata": {
        "colab": {
          "base_uri": "https://localhost:8080/"
        },
        "id": "ozcA4E9iFhN9",
        "outputId": "13afcfa3-a476-4a8d-f012-56b70d190e2b"
      },
      "execution_count": 48,
      "outputs": [
        {
          "output_type": "stream",
          "name": "stdout",
          "text": [
            "['lat = 5', 'lon = 78']\n",
            "['lat = 5', 'lon = 78']\n"
          ]
        }
      ]
    },
    {
      "cell_type": "markdown",
      "source": [
        "*Флаги и проверки*"
      ],
      "metadata": {
        "id": "gY82tpcAJ3X3"
      }
    },
    {
      "cell_type": "code",
      "source": [
        "text = \"подоходный налог\"\n",
        "mtch = re.findall(r\"прибыль|обретение|доход\", text)\n",
        "print(mtch)\n",
        "\n",
        "text = \"Python python PYTHON\"\n",
        "mtch = re.findall(r\"(?im)python\", text)\n",
        "# i - ignore text (игнорирование регистра)\n",
        "# m - multiline\n",
        "print(mtch)"
      ],
      "metadata": {
        "colab": {
          "base_uri": "https://localhost:8080/"
        },
        "id": "DdGWAh7LJ6ve",
        "outputId": "70f5142d-1bc3-4f34-f21e-6560e39fd1a4"
      },
      "execution_count": 60,
      "outputs": [
        {
          "output_type": "stream",
          "name": "stdout",
          "text": [
            "['доход']\n",
            "['Python', 'python', 'PYTHON']\n"
          ]
        }
      ]
    },
    {
      "cell_type": "markdown",
      "source": [
        "*Методы для поиска вхождений*"
      ],
      "metadata": {
        "id": "l_A9iqKrMM9L"
      }
    },
    {
      "cell_type": "code",
      "source": [
        "# re.match(pattern, string, flags)\n",
        "\n",
        "# pattern - регулярное выражение\n",
        "# string - анализируемая строка\n",
        "# flags - один или несколько флагов\n",
        "\n",
        "# Содержит ли строка номер телефона в формате +7(xxx)xxx-xx-xx\n",
        "text = \"+7(123)456-78-90\"\n",
        "# Ищет совпадение с самого начала строки\n",
        "m = re.match(r\"\\+7\\(\\d{3}\\)\\d{3}-\\d{2}-\\d{2}\", text)\n",
        "print(m)\n",
        "\n",
        "m2 = re.split(r\"[\\n;,]+\", text)\n",
        "print(m2)"
      ],
      "metadata": {
        "colab": {
          "base_uri": "https://localhost:8080/"
        },
        "id": "w2T_1-XTMQHe",
        "outputId": "2efe9e33-b618-4023-87ab-573dfd2b5ee2"
      },
      "execution_count": 62,
      "outputs": [
        {
          "output_type": "stream",
          "name": "stdout",
          "text": [
            "<re.Match object; span=(0, 16), match='+7(123)456-78-90'>\n",
            "['+7(123)456-78-90']\n"
          ]
        }
      ]
    }
  ]
}